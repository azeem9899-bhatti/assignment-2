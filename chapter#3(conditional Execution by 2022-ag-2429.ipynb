{
 "cells": [
  {
   "cell_type": "code",
   "execution_count": 2,
   "id": "feb39166",
   "metadata": {},
   "outputs": [
    {
     "name": "stdout",
     "output_type": "stream",
     "text": [
      "smaller\n",
      "Finis\n"
     ]
    }
   ],
   "source": [
    "#conditional steps \n",
    "x=5\n",
    "if x < 10:\n",
    "     print('smaller')\n",
    "if x > 20:\n",
    "     print('Bigger')\n",
    "\n",
    "print('Finis')\n"
   ]
  },
  {
   "cell_type": "code",
   "execution_count": 3,
   "id": "8b8ea610",
   "metadata": {},
   "outputs": [
    {
     "name": "stdout",
     "output_type": "stream",
     "text": [
      "Equals 5\n",
      "Greater then 4 \n",
      "Greater then or Equals 5\n",
      "less then or Equals 5\n",
      "Not equal to 6\n"
     ]
    }
   ],
   "source": [
    "#comparison operator \n",
    "x=5\n",
    "if x==5:\n",
    "    print('Equals 5')\n",
    "if  x > 4:\n",
    "    print('Greater then 4 ')\n",
    "if x>=5:\n",
    "    print('Greater then or Equals 5')\n",
    "if x<=5:\n",
    "    print('less then or Equals 5')\n",
    "if x!=6:\n",
    "    print('Not equal to 6')\n",
    "    "
   ]
  },
  {
   "cell_type": "code",
   "execution_count": 6,
   "id": "437d2f45",
   "metadata": {},
   "outputs": [
    {
     "name": "stdout",
     "output_type": "stream",
     "text": [
      "Before 5\n",
      "Is 5\n",
      "Is Still 5\n",
      "Third 5\n",
      "Afterwards 5\n",
      "Before 6\n",
      "Afterwards 6\n"
     ]
    }
   ],
   "source": [
    "# one way desicion \n",
    "x = 5\n",
    "print('Before 5')\n",
    "if x == 5 :\n",
    "     print('Is 5')\n",
    "     print('Is Still 5')\n",
    "     print('Third 5')\n",
    "print('Afterwards 5')\n",
    "print('Before 6')\n",
    "if x == 6 :\n",
    "     print('Is 6')\n",
    "     print('Is Still 6')\n",
    "     print('Third 6')\n",
    "print('Afterwards 6')"
   ]
  },
  {
   "cell_type": "code",
   "execution_count": 21,
   "id": "0ef6af52",
   "metadata": {},
   "outputs": [
    {
     "name": "stdout",
     "output_type": "stream",
     "text": [
      "More than one\n",
      "Less than 100\n",
      "All done\n"
     ]
    }
   ],
   "source": [
    "#identation nested desicion \n",
    "x = 42\n",
    "if x > 1 :\n",
    "     print('More than one')\n",
    "     if x < 100 : \n",
    "         print('Less than 100') \n",
    "print('All done')"
   ]
  },
  {
   "cell_type": "code",
   "execution_count": 22,
   "id": "0830f18b",
   "metadata": {},
   "outputs": [
    {
     "name": "stdout",
     "output_type": "stream",
     "text": [
      "Bigger\n",
      "All done\n"
     ]
    }
   ],
   "source": [
    "#two way desicion with else \n",
    "x = 4\n",
    "if x > 2 :\n",
    "   print('Bigger')\n",
    "else :\n",
    "   print('Smaller')\n",
    "print('All done')"
   ]
  },
  {
   "cell_type": "code",
   "execution_count": 24,
   "id": "fbe6edcc",
   "metadata": {},
   "outputs": [
    {
     "name": "stdout",
     "output_type": "stream",
     "text": [
      "Medium\n",
      "All done\n"
     ]
    }
   ],
   "source": [
    "#multiway conditional structure \n",
    "if x < 2 :\n",
    "     print('small')\n",
    "elif x < 10 :\n",
    "     print('Medium')\n",
    "else :\n",
    "     print('LARGE')\n",
    "print('All done')"
   ]
  },
  {
   "cell_type": "code",
   "execution_count": 27,
   "id": "3bd91408",
   "metadata": {},
   "outputs": [
    {
     "name": "stdout",
     "output_type": "stream",
     "text": [
      "Medium\n",
      "All done\n"
     ]
    }
   ],
   "source": [
    "# No Else\n",
    "x = 5\n",
    "if x < 2 :\n",
    "      print('Small')\n",
    "elif x < 10 :\n",
    "      print('Medium')\n",
    "print('All done')"
   ]
  },
  {
   "cell_type": "code",
   "execution_count": 30,
   "id": "6ce02ac7",
   "metadata": {},
   "outputs": [
    {
     "name": "stdout",
     "output_type": "stream",
     "text": [
      "Enter a number:one\n",
      "Not a number\n"
     ]
    }
   ],
   "source": [
    "#simple try /except\n",
    "rawstr = input('Enter a number:')\n",
    "try: \n",
    "    ival = int(rawstr)\n",
    "except: \n",
    "    ival = -1\n",
    "if ival > 0 : \n",
    "    print('Nice work')\n",
    "else: \n",
    "    print('Not a number')"
   ]
  },
  {
   "cell_type": "code",
   "execution_count": 40,
   "id": "4db4cb02",
   "metadata": {},
   "outputs": [
    {
     "name": "stdout",
     "output_type": "stream",
     "text": [
      "Enter Hours:3\n",
      "Enter Rate:one\n",
      "Error, please enter numeric input\n"
     ]
    }
   ],
   "source": [
    "#Rewrite your pay program using try and except so \n",
    "#that your program handles non-numeric input \n",
    "#gracefully\n",
    "\n",
    "h = input('Enter Hours:')\n",
    "r = input('Enter Rate:')\n",
    "\n",
    "try:\n",
    "  hours = float(h)\n",
    "  rate = float (r)\n",
    "  if hours <= 40:\n",
    "    pay = hours * rate\n",
    "  else:\n",
    "    pay = ((hours - 40) * (1.5 * rate)) + (40 * rate)\n",
    "  print ('Pay ='), pay\n",
    "except:\n",
    "    print('Error, please enter numeric input')\n"
   ]
  }
 ],
 "metadata": {
  "kernelspec": {
   "display_name": "Python 3 (ipykernel)",
   "language": "python",
   "name": "python3"
  },
  "language_info": {
   "codemirror_mode": {
    "name": "ipython",
    "version": 3
   },
   "file_extension": ".py",
   "mimetype": "text/x-python",
   "name": "python",
   "nbconvert_exporter": "python",
   "pygments_lexer": "ipython3",
   "version": "3.11.4"
  }
 },
 "nbformat": 4,
 "nbformat_minor": 5
}
